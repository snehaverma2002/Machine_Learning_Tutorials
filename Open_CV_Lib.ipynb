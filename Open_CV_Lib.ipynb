{
 "cells": [
  {
   "cell_type": "markdown",
   "id": "b7aeea62",
   "metadata": {},
   "source": [
    "# OpenCv:\n",
    "OpenCv (Open Source Computer Vision Library) is an open source computer vision and machine learning software library . Originally developed by Intel, it was later supported by Willow Garage then Itseex (which was later acquired by Intel). The library is Cross Platform and free."
   ]
  },
  {
   "cell_type": "markdown",
   "id": "849b9565",
   "metadata": {},
   "source": [
    "How to read & Display image using Open Cv:"
   ]
  },
  {
   "cell_type": "code",
   "execution_count": 1,
   "id": "36ace252",
   "metadata": {},
   "outputs": [],
   "source": [
    "import cv2"
   ]
  },
  {
   "cell_type": "code",
   "execution_count": null,
   "id": "ff0d1665",
   "metadata": {},
   "outputs": [],
   "source": [
    " "
   ]
  }
 ],
 "metadata": {
  "kernelspec": {
   "display_name": "Python 3 (ipykernel)",
   "language": "python",
   "name": "python3"
  },
  "language_info": {
   "codemirror_mode": {
    "name": "ipython",
    "version": 3
   },
   "file_extension": ".py",
   "mimetype": "text/x-python",
   "name": "python",
   "nbconvert_exporter": "python",
   "pygments_lexer": "ipython3",
   "version": "3.11.5"
  }
 },
 "nbformat": 4,
 "nbformat_minor": 5
}
