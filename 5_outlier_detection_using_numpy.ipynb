{
 "cells": [
  {
   "cell_type": "code",
   "execution_count": 1,
   "id": "4c7d936a",
   "metadata": {},
   "outputs": [],
   "source": [
    "import numpy as np"
   ]
  },
  {
   "cell_type": "code",
   "execution_count": 2,
   "id": "26de61d5",
   "metadata": {},
   "outputs": [],
   "source": [
    "x=[20,21,23,22,21,19.18,24,26,28,17,18,-4,3,2,80,60]"
   ]
  },
  {
   "cell_type": "code",
   "execution_count": 3,
   "id": "7682f5bc",
   "metadata": {},
   "outputs": [
    {
     "data": {
      "text/plain": [
       "[-4, 2, 3, 17, 18, 19.18, 20, 21, 21, 22, 23, 24, 26, 28, 60, 80]"
      ]
     },
     "execution_count": 3,
     "metadata": {},
     "output_type": "execute_result"
    }
   ],
   "source": [
    "x.sort()\n",
    "x"
   ]
  },
  {
   "cell_type": "code",
   "execution_count": 4,
   "id": "44b87fab",
   "metadata": {},
   "outputs": [],
   "source": [
    "q1,q2,q3=np.percentile(x,[25,50,75])"
   ]
  },
  {
   "cell_type": "code",
   "execution_count": 5,
   "id": "61de1e02",
   "metadata": {},
   "outputs": [
    {
     "data": {
      "text/plain": [
       "6.75"
      ]
     },
     "execution_count": 5,
     "metadata": {},
     "output_type": "execute_result"
    }
   ],
   "source": [
    "iqr=q3-q1\n",
    "iqr"
   ]
  },
  {
   "cell_type": "code",
   "execution_count": 7,
   "id": "8dfc0031",
   "metadata": {},
   "outputs": [
    {
     "data": {
      "text/plain": [
       "7.625"
      ]
     },
     "execution_count": 7,
     "metadata": {},
     "output_type": "execute_result"
    }
   ],
   "source": [
    "low=q1-(1.5*iqr)\n",
    "low"
   ]
  },
  {
   "cell_type": "code",
   "execution_count": 8,
   "id": "45fe510b",
   "metadata": {},
   "outputs": [
    {
     "data": {
      "text/plain": [
       "34.625"
      ]
     },
     "execution_count": 8,
     "metadata": {},
     "output_type": "execute_result"
    }
   ],
   "source": [
    "high=q3+(1.5*iqr)\n",
    "high"
   ]
  },
  {
   "cell_type": "markdown",
   "id": "5864b8f4",
   "metadata": {},
   "source": [
    "# Outlier Detection using Box Plot:-"
   ]
  },
  {
   "cell_type": "code",
   "execution_count": 9,
   "id": "ef24c304",
   "metadata": {},
   "outputs": [],
   "source": [
    "import matplotlib.pyplot as plt\n",
    "import seaborn as sb"
   ]
  },
  {
   "cell_type": "code",
   "execution_count": 10,
   "id": "c204ecfd",
   "metadata": {},
   "outputs": [
    {
     "data": {
      "image/png": "[encoded data removed]",
      "text/plain": [
       "<Figure size 640x480 with 1 Axes>"
      ]
     },
     "metadata": {},
     "output_type": "display_data"
    }
   ],
   "source": [
    "sb.boxplot(x)\n",
    "plt.show()"
   ]
  },
  {
   "cell_type": "code",
   "execution_count": 11,
   "id": "ff2b915a",
   "metadata": {},
   "outputs": [
    {
     "data": {
      "text/plain": [
       "(17.75, 21.0, 24.5)"
      ]
     },
     "execution_count": 11,
     "metadata": {},
     "output_type": "execute_result"
    }
   ],
   "source": [
    "q1,q2,q3"
   ]
  },
  {
   "cell_type": "code",
   "execution_count": null,
   "id": "f0de53d8",
   "metadata": {},
   "outputs": [],
   "source": []
  }
 ],
 "metadata": {
  "kernelspec": {
   "display_name": "Python 3 (ipykernel)",
   "language": "python",
   "name": "python3"
  },
  "language_info": {
   "codemirror_mode": {
    "name": "ipython",
    "version": 3
   },
   "file_extension": ".py",
   "mimetype": "text/x-python",
   "name": "python",
   "nbconvert_exporter": "python",
   "pygments_lexer": "ipython3",
   "version": "3.11.5"
  }
 },
 "nbformat": 4,
 "nbformat_minor": 5
}
