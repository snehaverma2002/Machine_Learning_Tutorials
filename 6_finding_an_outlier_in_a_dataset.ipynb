{
 "cells": [
  {
   "cell_type": "markdown",
   "id": "fedfc96a",
   "metadata": {},
   "source": [
    "# What is Outlier\n",
    "An outlier is a data point in a data set that is distant from all other \n",
    "observations. A data point that lies outside the overrall distribution of the \n",
    "datset"
   ]
  },
  {
   "cell_type": "code",
   "execution_count": 1,
   "id": "1e531c73",
   "metadata": {},
   "outputs": [],
   "source": [
    "import numpy as np\n",
    "import matplotlib.pyplot as plt"
   ]
  },
  {
   "cell_type": "markdown",
   "id": "0cc7417f",
   "metadata": {},
   "source": [
    "# What is the reason for an outlier to exists in a dataset"
   ]
  },
  {
   "cell_type": "markdown",
   "id": "462a6c08",
   "metadata": {},
   "source": [
    "1.Variability in the data\n",
    "\n",
    "2. An experimental measurement error"
   ]
  },
  {
   "cell_type": "markdown",
   "id": "47e0f6d3",
   "metadata": {},
   "source": [
    "# What are the impacts of having outliers in  a dataset"
   ]
  },
  {
   "cell_type": "markdown",
   "id": "ea5b0c56",
   "metadata": {},
   "source": [
    "1.It causes various problems during our statistical analysis\n",
    "\n",
    "2.It may cause a significiant impact on the mean and the standard deviation."
   ]
  },
  {
   "cell_type": "markdown",
   "id": "38fb2cf2",
   "metadata": {},
   "source": [
    "# Various way of finding the outlier."
   ]
  },
  {
   "cell_type": "markdown",
   "id": "0b0c4df7",
   "metadata": {},
   "source": [
    "1. Using Scatter Plot\n",
    "\n",
    "2. Box Plot\n",
    "\n",
    "3. Using Zscore\n",
    "\n",
    "4. Using the IQR interquatile range\n",
    "\n",
    "5. Using 3rd Staandard Deviation"
   ]
  },
  {
   "cell_type": "code",
   "execution_count": 2,
   "id": "65c4f80a",
   "metadata": {},
   "outputs": [],
   "source": [
    " dataset= [11,10,12,14,12,15,102,12,14,17,19,107\n",
    "          ,10,13,12,14,12,108,12,11,14,13,15,10,15,12,10,14,13,15,10]"
   ]
  },
  {
   "cell_type": "markdown",
   "id": "d307cbe3",
   "metadata": {},
   "source": [
    "# Detecting outlier using Zscore"
   ]
  },
  {
   "cell_type": "markdown",
   "id": "dc43b8f1",
   "metadata": {},
   "source": [
    "## Using Zscore"
   ]
  },
  {
   "cell_type": "markdown",
   "id": "ca9ab85c",
   "metadata": {},
   "source": [
    "Formula for Zscore =(Observation -Mean)/Standard Deviation"
   ]
  },
  {
   "cell_type": "code",
   "execution_count": 3,
   "id": "743d6be4",
   "metadata": {},
   "outputs": [],
   "source": [
    "outliers=[]\n",
    "def detect_outliers(data):\n",
    "    \n",
    "    thresold=3\n",
    "    mean = np.mean(data)\n",
    "    std = np.std(data)\n",
    "    \n",
    "    for i in data:\n",
    "        z_score= (i-mean)/std\n",
    "        if np.abs(z_score) > thresold:\n",
    "            y=i\n",
    "            outliers.append(y)\n",
    "    return outliers\n"
   ]
  },
  {
   "cell_type": "code",
   "execution_count": 4,
   "id": "286dc8a1",
   "metadata": {},
   "outputs": [],
   "source": [
    "outlier_pt=detect_outliers(dataset)"
   ]
  },
  {
   "cell_type": "code",
   "execution_count": 5,
   "id": "7c40e251",
   "metadata": {},
   "outputs": [
    {
     "data": {
      "text/plain": [
       "[107, 108]"
      ]
     },
     "execution_count": 5,
     "metadata": {},
     "output_type": "execute_result"
    }
   ],
   "source": [
    "outlier_pt"
   ]
  },
  {
   "cell_type": "markdown",
   "id": "7988ee33",
   "metadata": {},
   "source": [
    "# InterQuatile Range"
   ]
  },
  {
   "cell_type": "markdown",
   "id": "b1545bf7",
   "metadata": {},
   "source": [
    "75%-25% values in a dataset"
   ]
  },
  {
   "cell_type": "markdown",
   "id": "5a08826a",
   "metadata": {},
   "source": [
    "## Steps"
   ]
  },
  {
   "cell_type": "markdown",
   "id": "ca31614b",
   "metadata": {},
   "source": [
    "1. Arrange the data in increasing order\n",
    "\n",
    "2. Calculate first(q1) and the third quartile(q3)\n",
    "\n",
    "3. Find interquatile range (q3-q1)\n",
    "\n",
    "4.Find lower bound q1*1.5\n",
    "\n",
    "5.Find upper bound q3*1.5"
   ]
  },
  {
   "cell_type": "markdown",
   "id": "afe130e8",
   "metadata": {},
   "source": [
    "Anything that lies outside of lower and upper bound outlier"
   ]
  },
  {
   "cell_type": "code",
   "execution_count": 6,
   "id": "8d08c67e",
   "metadata": {},
   "outputs": [
    {
     "data": {
      "text/plain": [
       "[10,\n",
       " 10,\n",
       " 10,\n",
       " 10,\n",
       " 10,\n",
       " 11,\n",
       " 11,\n",
       " 12,\n",
       " 12,\n",
       " 12,\n",
       " 12,\n",
       " 12,\n",
       " 12,\n",
       " 12,\n",
       " 13,\n",
       " 13,\n",
       " 13,\n",
       " 14,\n",
       " 14,\n",
       " 14,\n",
       " 14,\n",
       " 14,\n",
       " 15,\n",
       " 15,\n",
       " 15,\n",
       " 15,\n",
       " 17,\n",
       " 19,\n",
       " 102,\n",
       " 107,\n",
       " 108]"
      ]
     },
     "execution_count": 6,
     "metadata": {},
     "output_type": "execute_result"
    }
   ],
   "source": [
    "## Perform all the steps of IQR\n",
    "sorted(dataset)"
   ]
  },
  {
   "cell_type": "code",
   "execution_count": 7,
   "id": "8e512e9d",
   "metadata": {},
   "outputs": [],
   "source": [
    "quantile1, quantile3= np.percentile(dataset,[25,75])"
   ]
  },
  {
   "cell_type": "code",
   "execution_count": 8,
   "id": "e91a9f75",
   "metadata": {},
   "outputs": [
    {
     "name": "stdout",
     "output_type": "stream",
     "text": [
      "12.0 15.0\n"
     ]
    }
   ],
   "source": [
    "print(quantile1,quantile3)"
   ]
  },
  {
   "cell_type": "code",
   "execution_count": 9,
   "id": "7951ddfe",
   "metadata": {},
   "outputs": [
    {
     "name": "stdout",
     "output_type": "stream",
     "text": [
      "3.0\n"
     ]
    }
   ],
   "source": [
    "# Find the IQR\n",
    "iqr_value=quantile3-quantile1\n",
    "print(iqr_value)"
   ]
  },
  {
   "cell_type": "code",
   "execution_count": 10,
   "id": "4e7773f0",
   "metadata": {},
   "outputs": [],
   "source": [
    "## Find the lower bound value and the higher bound value\n",
    "lower_bound_val = quantile1 -(1.5 * iqr_value)\n",
    "upper_bound_val = quantile3 +(1.5 * iqr_value)"
   ]
  },
  {
   "cell_type": "code",
   "execution_count": 11,
   "id": "7ae1a3c6",
   "metadata": {},
   "outputs": [
    {
     "name": "stdout",
     "output_type": "stream",
     "text": [
      "7.5 19.5\n"
     ]
    }
   ],
   "source": [
    "print(lower_bound_val,upper_bound_val)"
   ]
  },
  {
   "cell_type": "code",
   "execution_count": null,
   "id": "c2e65c64",
   "metadata": {},
   "outputs": [],
   "source": []
  }
 ],
 "metadata": {
  "kernelspec": {
   "display_name": "Python 3 (ipykernel)",
   "language": "python",
   "name": "python3"
  },
  "language_info": {
   "codemirror_mode": {
    "name": "ipython",
    "version": 3
   },
   "file_extension": ".py",
   "mimetype": "text/x-python",
   "name": "python",
   "nbconvert_exporter": "python",
   "pygments_lexer": "ipython3",
   "version": "3.11.5"
  }
 },
 "nbformat": 4,
 "nbformat_minor": 5
}
