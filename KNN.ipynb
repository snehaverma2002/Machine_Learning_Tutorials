{
 "cells": [
  {
   "cell_type": "markdown",
   "id": "0687038e",
   "metadata": {},
   "source": [
    "# K-Nearest Neighbors(KNN)\n"
   ]
  },
  {
   "cell_type": "markdown",
   "id": "84a0327d",
   "metadata": {},
   "source": [
    "The principle behind nearest neighbor methods is to find a predefined number of\n",
    "training samples closest in distance to the new pont, and predict the label from these\n",
    "\n",
    "It has one of the simplest learning strategies:given a new unknown observation,\n",
    "lookup in your reference database which ones have the closest features and assign\n",
    "the predominant class.\n",
    "\n",
    "the distance can,in general, be any metric measure:standard Euclidean distance\n",
    "is the most common choice."
   ]
  },
  {
   "cell_type": "markdown",
   "id": "e5be5e33",
   "metadata": {},
   "source": [
    "## How KNN Works:-"
   ]
  },
  {
   "cell_type": "code",
   "execution_count": null,
   "id": "ba7f60d6",
   "metadata": {},
   "outputs": [],
   "source": []
  },
  {
   "cell_type": "markdown",
   "id": "cefde552",
   "metadata": {},
   "source": [
    "## K-NN steps\n",
    "\n",
    "Step1: Choose the number K of neighbors\n",
    "\n",
    "    \n",
    "Step2:Take the nearest neighbors of the new data points, acc\n",
    "to Euclidean distance\n",
    "\n",
    "Step3:Among these K neighbors, count the number pf data points in each category.\n",
    "    \n",
    "Step4:Assign the new data pont to the category where you counted the most neighbors."
   ]
  },
  {
   "cell_type": "code",
   "execution_count": null,
   "id": "8c13cfb9",
   "metadata": {},
   "outputs": [],
   "source": []
  }
 ],
 "metadata": {
  "kernelspec": {
   "display_name": "Python 3 (ipykernel)",
   "language": "python",
   "name": "python3"
  },
  "language_info": {
   "codemirror_mode": {
    "name": "ipython",
    "version": 3
   },
   "file_extension": ".py",
   "mimetype": "text/x-python",
   "name": "python",
   "nbconvert_exporter": "python",
   "pygments_lexer": "ipython3",
   "version": "3.11.5"
  }
 },
 "nbformat": 4,
 "nbformat_minor": 5
}
